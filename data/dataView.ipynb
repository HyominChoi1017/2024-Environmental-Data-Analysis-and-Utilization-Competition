{
 "cells": [
  {
   "cell_type": "code",
   "execution_count": 1,
   "metadata": {},
   "outputs": [
    {
     "data": {
      "text/plain": [
       "['_2022pm_7_12_.csv', '_2023pm_1_6.csv', '_2023pm_7_12.csv', '_2022pm_1_6.csv']"
      ]
     },
     "execution_count": 1,
     "metadata": {},
     "output_type": "execute_result"
    }
   ],
   "source": [
    "import matplotlib.pyplot as plt\n",
    "import pandas as pd\n",
    "import numpy as np \n",
    "import os\n",
    "\n",
    "os.listdir('대기질데이터')"
   ]
  },
  {
   "cell_type": "code",
   "execution_count": 2,
   "metadata": {},
   "outputs": [],
   "source": [
    "file_path = []\n",
    "for file in os.listdir('대기질데이터'):\n",
    "    file_path.append('대기질데이터/'+file)\n",
    "\n",
    "df1 = pd.read_csv(file_path[0])\n",
    "df2 = pd.read_csv(file_path[1])\n",
    "df3 = pd.read_csv(file_path[2])\n",
    "df4 = pd.read_csv(file_path[3])"
   ]
  },
  {
   "cell_type": "code",
   "execution_count": 7,
   "metadata": {},
   "outputs": [
    {
     "data": {
      "text/plain": [
       "(측정일자        0\n",
       " 측정시간        0\n",
       " 지역          0\n",
       " SO2     26844\n",
       " CO      33666\n",
       " O3      24169\n",
       " NO2     25482\n",
       " PM10    32585\n",
       " PM25    36570\n",
       " dtype: int64,\n",
       " 측정일자        0\n",
       " 측정시간        0\n",
       " 지역          0\n",
       " SO2     30068\n",
       " CO      33234\n",
       " O3      26848\n",
       " NO2     29637\n",
       " PM10    29156\n",
       " PM25    32758\n",
       " dtype: int64)"
      ]
     },
     "execution_count": 7,
     "metadata": {},
     "output_type": "execute_result"
    }
   ],
   "source": [
    "df1.isnull().sum(), df2.isnull().sum()"
   ]
  },
  {
   "cell_type": "code",
   "execution_count": 6,
   "metadata": {},
   "outputs": [
    {
     "data": {
      "text/plain": [
       "(측정일자        0\n",
       " 측정시간        0\n",
       " 지역          0\n",
       " SO2     36311\n",
       " CO      41118\n",
       " O3      31569\n",
       " NO2     33159\n",
       " PM10    39149\n",
       " PM25    41181\n",
       " dtype: int64,\n",
       " 측정일자        0\n",
       " 측정시간        0\n",
       " 지역          0\n",
       " SO2     22856\n",
       " CO      25654\n",
       " O3      26927\n",
       " NO2     22143\n",
       " PM10    26661\n",
       " PM25    28065\n",
       " dtype: int64)"
      ]
     },
     "execution_count": 6,
     "metadata": {},
     "output_type": "execute_result"
    }
   ],
   "source": [
    "df3.isnull().sum(), df4.isnull().sum()"
   ]
  },
  {
   "cell_type": "code",
   "execution_count": 37,
   "metadata": {},
   "outputs": [
    {
     "name": "stdout",
     "output_type": "stream",
     "text": [
      "<class 'pandas.core.frame.DataFrame'>\n",
      "RangeIndex: 897744 entries, 0 to 897743\n",
      "Data columns (total 9 columns):\n",
      " #   Column  Non-Null Count   Dtype  \n",
      "---  ------  --------------   -----  \n",
      " 0   측정일자    897744 non-null  object \n",
      " 1   측정시간    897744 non-null  int64  \n",
      " 2   지역      897744 non-null  object \n",
      " 3   SO2     870900 non-null  float64\n",
      " 4   CO      864078 non-null  float64\n",
      " 5   O3      873575 non-null  float64\n",
      " 6   NO2     872262 non-null  float64\n",
      " 7   PM10    865159 non-null  float64\n",
      " 8   PM25    861174 non-null  float64\n",
      "dtypes: float64(6), int64(1), object(2)\n",
      "memory usage: 61.6+ MB\n"
     ]
    }
   ],
   "source": [
    "df1.info()"
   ]
  },
  {
   "cell_type": "code",
   "execution_count": 34,
   "metadata": {},
   "outputs": [
    {
     "data": {
      "text/html": [
       "<div>\n",
       "<style scoped>\n",
       "    .dataframe tbody tr th:only-of-type {\n",
       "        vertical-align: middle;\n",
       "    }\n",
       "\n",
       "    .dataframe tbody tr th {\n",
       "        vertical-align: top;\n",
       "    }\n",
       "\n",
       "    .dataframe thead th {\n",
       "        text-align: right;\n",
       "    }\n",
       "</style>\n",
       "<table border=\"1\" class=\"dataframe\">\n",
       "  <thead>\n",
       "    <tr style=\"text-align: right;\">\n",
       "      <th></th>\n",
       "      <th>측정일자</th>\n",
       "      <th>측정시간</th>\n",
       "      <th>지역</th>\n",
       "      <th>SO2</th>\n",
       "      <th>CO</th>\n",
       "      <th>O3</th>\n",
       "      <th>NO2</th>\n",
       "      <th>PM10</th>\n",
       "      <th>PM25</th>\n",
       "    </tr>\n",
       "  </thead>\n",
       "  <tbody>\n",
       "    <tr>\n",
       "      <th>63</th>\n",
       "      <td>2022-07-03</td>\n",
       "      <td>16</td>\n",
       "      <td>서울 중구</td>\n",
       "      <td>0.0040</td>\n",
       "      <td>0.3</td>\n",
       "      <td>0.090</td>\n",
       "      <td>0.0090</td>\n",
       "      <td>NaN</td>\n",
       "      <td>34.0</td>\n",
       "    </tr>\n",
       "    <tr>\n",
       "      <th>64</th>\n",
       "      <td>2022-07-03</td>\n",
       "      <td>17</td>\n",
       "      <td>서울 중구</td>\n",
       "      <td>0.0040</td>\n",
       "      <td>0.2</td>\n",
       "      <td>0.071</td>\n",
       "      <td>0.0070</td>\n",
       "      <td>NaN</td>\n",
       "      <td>28.0</td>\n",
       "    </tr>\n",
       "    <tr>\n",
       "      <th>67</th>\n",
       "      <td>2022-07-03</td>\n",
       "      <td>20</td>\n",
       "      <td>서울 중구</td>\n",
       "      <td>0.0040</td>\n",
       "      <td>0.2</td>\n",
       "      <td>0.048</td>\n",
       "      <td>0.0100</td>\n",
       "      <td>NaN</td>\n",
       "      <td>26.0</td>\n",
       "    </tr>\n",
       "    <tr>\n",
       "      <th>115</th>\n",
       "      <td>2022-07-05</td>\n",
       "      <td>20</td>\n",
       "      <td>서울 중구</td>\n",
       "      <td>0.0030</td>\n",
       "      <td>0.2</td>\n",
       "      <td>0.063</td>\n",
       "      <td>0.0150</td>\n",
       "      <td>NaN</td>\n",
       "      <td>31.0</td>\n",
       "    </tr>\n",
       "    <tr>\n",
       "      <th>145</th>\n",
       "      <td>2022-07-07</td>\n",
       "      <td>2</td>\n",
       "      <td>서울 중구</td>\n",
       "      <td>0.0030</td>\n",
       "      <td>0.2</td>\n",
       "      <td>0.020</td>\n",
       "      <td>0.0130</td>\n",
       "      <td>11.0</td>\n",
       "      <td>NaN</td>\n",
       "    </tr>\n",
       "    <tr>\n",
       "      <th>...</th>\n",
       "      <td>...</td>\n",
       "      <td>...</td>\n",
       "      <td>...</td>\n",
       "      <td>...</td>\n",
       "      <td>...</td>\n",
       "      <td>...</td>\n",
       "      <td>...</td>\n",
       "      <td>...</td>\n",
       "      <td>...</td>\n",
       "    </tr>\n",
       "    <tr>\n",
       "      <th>897568</th>\n",
       "      <td>2022-12-24</td>\n",
       "      <td>17</td>\n",
       "      <td>인천 옹진군</td>\n",
       "      <td>0.0019</td>\n",
       "      <td>0.3</td>\n",
       "      <td>0.036</td>\n",
       "      <td>0.0044</td>\n",
       "      <td>17.0</td>\n",
       "      <td>NaN</td>\n",
       "    </tr>\n",
       "    <tr>\n",
       "      <th>897612</th>\n",
       "      <td>2022-12-26</td>\n",
       "      <td>13</td>\n",
       "      <td>인천 옹진군</td>\n",
       "      <td>0.0019</td>\n",
       "      <td>0.3</td>\n",
       "      <td>0.034</td>\n",
       "      <td>0.0066</td>\n",
       "      <td>NaN</td>\n",
       "      <td>NaN</td>\n",
       "    </tr>\n",
       "    <tr>\n",
       "      <th>897613</th>\n",
       "      <td>2022-12-26</td>\n",
       "      <td>14</td>\n",
       "      <td>인천 옹진군</td>\n",
       "      <td>NaN</td>\n",
       "      <td>NaN</td>\n",
       "      <td>NaN</td>\n",
       "      <td>NaN</td>\n",
       "      <td>NaN</td>\n",
       "      <td>NaN</td>\n",
       "    </tr>\n",
       "    <tr>\n",
       "      <th>897614</th>\n",
       "      <td>2022-12-26</td>\n",
       "      <td>15</td>\n",
       "      <td>인천 옹진군</td>\n",
       "      <td>NaN</td>\n",
       "      <td>NaN</td>\n",
       "      <td>NaN</td>\n",
       "      <td>NaN</td>\n",
       "      <td>19.0</td>\n",
       "      <td>10.0</td>\n",
       "    </tr>\n",
       "    <tr>\n",
       "      <th>897624</th>\n",
       "      <td>2022-12-27</td>\n",
       "      <td>1</td>\n",
       "      <td>인천 옹진군</td>\n",
       "      <td>0.0013</td>\n",
       "      <td>0.3</td>\n",
       "      <td>0.037</td>\n",
       "      <td>0.0024</td>\n",
       "      <td>15.0</td>\n",
       "      <td>NaN</td>\n",
       "    </tr>\n",
       "  </tbody>\n",
       "</table>\n",
       "<p>74701 rows × 9 columns</p>\n",
       "</div>"
      ],
      "text/plain": [
       "              측정일자  측정시간      지역     SO2   CO     O3     NO2  PM10  PM25\n",
       "63      2022-07-03    16   서울 중구  0.0040  0.3  0.090  0.0090   NaN  34.0\n",
       "64      2022-07-03    17   서울 중구  0.0040  0.2  0.071  0.0070   NaN  28.0\n",
       "67      2022-07-03    20   서울 중구  0.0040  0.2  0.048  0.0100   NaN  26.0\n",
       "115     2022-07-05    20   서울 중구  0.0030  0.2  0.063  0.0150   NaN  31.0\n",
       "145     2022-07-07     2   서울 중구  0.0030  0.2  0.020  0.0130  11.0   NaN\n",
       "...            ...   ...     ...     ...  ...    ...     ...   ...   ...\n",
       "897568  2022-12-24    17  인천 옹진군  0.0019  0.3  0.036  0.0044  17.0   NaN\n",
       "897612  2022-12-26    13  인천 옹진군  0.0019  0.3  0.034  0.0066   NaN   NaN\n",
       "897613  2022-12-26    14  인천 옹진군     NaN  NaN    NaN     NaN   NaN   NaN\n",
       "897614  2022-12-26    15  인천 옹진군     NaN  NaN    NaN     NaN  19.0  10.0\n",
       "897624  2022-12-27     1  인천 옹진군  0.0013  0.3  0.037  0.0024  15.0   NaN\n",
       "\n",
       "[74701 rows x 9 columns]"
      ]
     },
     "execution_count": 34,
     "metadata": {},
     "output_type": "execute_result"
    }
   ],
   "source": [
    "df1[df1.isnull().any(axis=1)]"
   ]
  },
  {
   "cell_type": "code",
   "execution_count": 23,
   "metadata": {},
   "outputs": [
    {
     "data": {
      "text/plain": [
       "array(['서울 중구', '서울 용산구', '서울 종로구', '서울 광진구', '서울 성동구', '서울 중랑구',\n",
       "       '서울 동대문구', '서울 성북구', '서울 도봉구', '서울 은평구', '서울 서대문구', '서울 마포구',\n",
       "       '서울 강서구', '서울 구로구', '서울 영등포구', '서울 동작구', '서울 관악구', '서울 강남구',\n",
       "       '서울 서초구', '서울 송파구', '서울 강동구', '서울 금천구', '서울 강북구', '서울 양천구',\n",
       "       '서울 노원구', '경기 수원시', '경기 성남시', '경기 의정부시', '경기 안양시', '경기 광명시',\n",
       "       '경기 안산시', '경기 과천시', '경기 구리시', '경기 의왕시', '경기 시흥시', '경기 남양주시',\n",
       "       '경기 평택시', '경기 파주시', '경기 고양시', '경기 광주시', '경기 용인시', '경기 이천시',\n",
       "       '경기 포천시', '경기 김포시', '경기 군포시', '경기 오산시', '경기 하남시', '경기 화성시',\n",
       "       '경기 양주시', '경기 동두천시', '경기 안성시', '경기 여주시', '경기 연천군', '경기 가평군',\n",
       "       '경기 양평군', '인천 중구', '인천 동구', '인천 남동구', '인천 미추홀구', '인천 부평구', '인천 서구',\n",
       "       '인천 계양구', '인천 강화군', '인천 연수구', '경기 부천시', '인천 옹진군'], dtype=object)"
      ]
     },
     "execution_count": 23,
     "metadata": {},
     "output_type": "execute_result"
    }
   ],
   "source": [
    "df1[df1.isnull().any(axis=1)]['지역'].unique()"
   ]
  },
  {
   "cell_type": "code",
   "execution_count": 45,
   "metadata": {},
   "outputs": [],
   "source": [
    "def interpolate_every_24_rows(df, method='linear', limit_direction='both'):\n",
    "    interpolated_df_list = []\n",
    "\n",
    "    for i in range(0, len(df), 24):\n",
    "        chunk = df.iloc[i:i+24]\n",
    "        interpolated_chunk = chunk.interpolate(method=method, axis=0, limit_direction=limit_direction)\n",
    "        interpolated_chunk = interpolated_chunk.interpolate(method='linear', axis=0, limit_direction=limit_direction)\n",
    "        \n",
    "        interpolated_df_list.append(interpolated_chunk)\n",
    "    \n",
    "    # 보간법이 적용된 모든 청크를 결합\n",
    "    interpolated_df = pd.concat(interpolated_df_list, axis=0)\n",
    "    interpolated_df = interpolated_df.interpolate(method='linear', axis=0, limit_direction=limit_direction)\n",
    "    \n",
    "    return interpolated_df\n",
    "\n",
    "interpolated_df1 = interpolate_every_24_rows(df1)\n",
    "interpolated_df2 = interpolate_every_24_rows(df2)\n",
    "interpolated_df3 = interpolate_every_24_rows(df3)\n",
    "interpolated_df4 = interpolate_every_24_rows(df4)"
   ]
  },
  {
   "cell_type": "code",
   "execution_count": 39,
   "metadata": {},
   "outputs": [
    {
     "data": {
      "text/plain": [
       "측정일자    0\n",
       "측정시간    0\n",
       "지역      0\n",
       "SO2     0\n",
       "CO      0\n",
       "O3      0\n",
       "NO2     0\n",
       "PM10    0\n",
       "PM25    0\n",
       "dtype: int64"
      ]
     },
     "execution_count": 39,
     "metadata": {},
     "output_type": "execute_result"
    }
   ],
   "source": [
    "interpolated_df1.isnull().sum()"
   ]
  },
  {
   "cell_type": "code",
   "execution_count": null,
   "metadata": {},
   "outputs": [],
   "source": [
    "interpolated_df1.to_csv(file_path[0], encoding='utf-8')\n",
    "interpolated_df1.to_csv(file_path[1], encoding='utf-8')\n",
    "interpolated_df1.to_csv(file_path[2], encoding='utf-8')\n",
    "interpolated_df1.to_csv(file_path[3], encoding='utf-8')"
   ]
  }
 ],
 "metadata": {
  "kernelspec": {
   "display_name": "Python 3",
   "language": "python",
   "name": "python3"
  },
  "language_info": {
   "codemirror_mode": {
    "name": "ipython",
    "version": 3
   },
   "file_extension": ".py",
   "mimetype": "text/x-python",
   "name": "python",
   "nbconvert_exporter": "python",
   "pygments_lexer": "ipython3",
   "version": "3.10.5"
  }
 },
 "nbformat": 4,
 "nbformat_minor": 2
}
